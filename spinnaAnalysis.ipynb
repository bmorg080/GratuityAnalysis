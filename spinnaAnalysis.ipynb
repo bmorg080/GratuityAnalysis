{
 "cells": [
  {
   "cell_type": "code",
   "execution_count": 40,
   "metadata": {},
   "outputs": [],
   "source": [
    "import pandas as pd\n",
    "import seaborn as sns\n",
    "import numpy as np\n",
    "import matplotlib\n",
    "import matplotlib.pyplot as plt"
   ]
  },
  {
   "cell_type": "code",
   "execution_count": 41,
   "metadata": {
    "scrolled": true
   },
   "outputs": [],
   "source": [
    "df = pd.read_excel('spinellisLog.xlsx')"
   ]
  },
  {
   "cell_type": "code",
   "execution_count": 42,
   "metadata": {},
   "outputs": [
    {
     "data": {
      "text/plain": [
       "Index(['Date', 'Name of Event', 'Event Type', 'Lead', 'Host', 'Staff', 'Tip',\n",
       "       'Credit Card Tip?', 'Unnamed: 8', 'Unnamed: 9'],\n",
       "      dtype='object')"
      ]
     },
     "execution_count": 42,
     "metadata": {},
     "output_type": "execute_result"
    }
   ],
   "source": [
    "df.columns"
   ]
  },
  {
   "cell_type": "code",
   "execution_count": 43,
   "metadata": {},
   "outputs": [],
   "source": [
    "df = df.drop('Unnamed: 8', axis=1)\n",
    "df = df.drop('Unnamed: 9', axis=1)\n",
    "df['Host'] = df['Host'].fillna(value='-')\n",
    "df['Lead'] = df['Lead'].fillna(value='-')"
   ]
  },
  {
   "cell_type": "code",
   "execution_count": 44,
   "metadata": {},
   "outputs": [
    {
     "data": {
      "text/plain": [
       "0.7916666666666666"
      ]
     },
     "execution_count": 44,
     "metadata": {},
     "output_type": "execute_result"
    }
   ],
   "source": [
    "# Percentage of events when tip was 0 or cash\n",
    "np.mean(df['Credit Card Tip?'] == 'N')"
   ]
  },
  {
   "cell_type": "code",
   "execution_count": 45,
   "metadata": {},
   "outputs": [
    {
     "data": {
      "text/plain": [
       "5443.5"
      ]
     },
     "execution_count": 45,
     "metadata": {},
     "output_type": "execute_result"
    }
   ],
   "source": [
    "# Total tip amount between August 14, 2022, and November 11, 2022\n",
    "sum(df['Tip'])"
   ]
  },
  {
   "cell_type": "code",
   "execution_count": 46,
   "metadata": {},
   "outputs": [
    {
     "data": {
      "text/plain": [
       "3277.0"
      ]
     },
     "execution_count": 46,
     "metadata": {},
     "output_type": "execute_result"
    }
   ],
   "source": [
    "#  total cash tips\n",
    "df[df['Credit Card Tip?'] == 'N']['Tip'].sum()"
   ]
  },
  {
   "cell_type": "code",
   "execution_count": 47,
   "metadata": {},
   "outputs": [],
   "source": [
    "# func to calculate how many times someone was the lead\n",
    "def numEventsAsLead(staff: str):\n",
    "    return (df[df['Lead'].str.contains(staff)])['Date'].count()"
   ]
  },
  {
   "cell_type": "code",
   "execution_count": 48,
   "metadata": {},
   "outputs": [],
   "source": [
    "def meanTipWith(staff):\n",
    "    averageTip = df.loc[df['Staff'].str.contains(staff) | \n",
    "           df['Host'].str.contains(staff) | \n",
    "           df['Lead'].str.contains(staff)]['Tip'].mean()\n",
    "    print(f\"{staff}:    \\t$\", round(averageTip, 2))\n",
    "    return(averageTip)"
   ]
  },
  {
   "cell_type": "code",
   "execution_count": 49,
   "metadata": {},
   "outputs": [],
   "source": [
    "#  function to calculate average tip received when someone is the lead\n",
    "def meanTipWhenLead(lead: str):\n",
    "    averageTip = (df[df['Lead'].str.contains(lead)])['Tip'].mean()\n",
    "    print(f\"{lead}:    \\t$\", round(averageTip, 2))\n",
    "    return(round(averageTip, 2))"
   ]
  },
  {
   "cell_type": "code",
   "execution_count": 50,
   "metadata": {},
   "outputs": [],
   "source": [
    "# Func to calculate the number of events with a staff\n",
    "def numEventsWith(staff: str):\n",
    "    eventCount = df.loc[df['Staff'].str.contains(staff) | \n",
    "           df['Host'].str.contains(staff) | \n",
    "           df['Lead'].str.contains(staff)]['Name of Event'].count()\n",
    "    return eventCount"
   ]
  },
  {
   "cell_type": "code",
   "execution_count": 51,
   "metadata": {},
   "outputs": [],
   "source": [
    "#Finding all unique Leads, and delete \"-\" from the leads array (of type np.array)\n",
    "leads = df['Lead'].unique()\n",
    "leads = np.delete(leads, np.where(leads == '-'))"
   ]
  },
  {
   "cell_type": "code",
   "execution_count": 52,
   "metadata": {},
   "outputs": [],
   "source": [
    "# Trying to get unique list of all staff\n",
    "# Make the Staff Series of type list\n",
    "dfcopy = df.copy()\n",
    "dfcopy['Staff'] = dfcopy['Staff'].str.split(', ')"
   ]
  },
  {
   "cell_type": "code",
   "execution_count": 53,
   "metadata": {},
   "outputs": [
    {
     "data": {
      "text/plain": [
       "0                            [Sebastian, Steven]\n",
       "1     [Brian, Janine, Chrissy, Michele, Cassidy]\n",
       "2                                [Brian, Hannah]\n",
       "3                                   [Brian, Sue]\n",
       "4                               [Brian, Cassidy]\n",
       "                         ...                    \n",
       "67                                 [Brian, Beth]\n",
       "68                              [Brian, Michele]\n",
       "69                                  [Brian, Sue]\n",
       "70                      [Brian, Jennie, Chrissy]\n",
       "71                              [Brian, Chrissy]\n",
       "Name: Staff, Length: 72, dtype: object"
      ]
     },
     "execution_count": 53,
     "metadata": {},
     "output_type": "execute_result"
    }
   ],
   "source": [
    "dfcopy['Staff']"
   ]
  },
  {
   "cell_type": "code",
   "execution_count": 54,
   "metadata": {},
   "outputs": [
    {
     "name": "stdout",
     "output_type": "stream",
     "text": [
      "Sebastian Steven Brian Janine Chrissy Michele Cassidy Brian Hannah Brian Sue Brian Cassidy Brian Brian Cassidy Taylor Julia Michael Brian Cassidy Julia Angel Josh Justin Steven Sebastian Ava Brian Michele Diane Brian Janine Chrissy Jennie Justin Michael Kerri (Josh Monique Taylor Ryleigh Matt Roberto) Brian Diane Brian Michele Brian Jennie Brian Joey Janine Michele  Brian Janine Michael Sebastian Josh Justin Chrissy  Brian Taylor Chrissy Brian Deb Liz  Brian Beth Sue Brian Jack Sue Brian Cassidy Brian Sebastian Josh Justin Taylor Brian Beth Liz Brian Joey Brian Justin Julia Janine Michael Brian Chrissy Deb  Brian Janine Joey Brian Beth Kerri Brian Brian Brian Bryan Brian Kerri Cassidy Bryan Michele Laura Chrissy Janine Diane Brian Bryan Brian Jeanine Chrissy Ryleigh Brian Janine Brian Diane Brian Beth Chrissy Brian Janine Brian Cassidy Chrissy Joey Brian Cassidy Justin Brian Julia Jeanine Chrissy Bryan  Brian Bryan Cassidy Brian Janine Joey Beth Brian Brian Michele Brian Brian Beth Liz Deb Chrissy Jess Brian Joey Michele  Brian Brian Janine Chrissy Brian Michele Brian Joey Janine Michele Chrissy Brian Bryan Melanie Brian Kerri Deb Brian Beth Brian Beth Brian Sue Michele Chrissy Joey Janine Brian Janine Joey Christian Gen Brian Michele Brian Chrissy Janine Brian Sebastian Brian Beth Staff Staff Staff Staff Staff Staff Staff Staff Brian Kerri Justice Brian Jake Brian Justice Michael Amani Justin Sebastian Brian Beth Brian Michele Brian Sue Brian Jennie Chrissy Brian Chrissy "
     ]
    }
   ],
   "source": [
    "# iterating through 2D array \n",
    "# getting 1D list of all staff from every event\n",
    "staffList = []\n",
    "for _ in dfcopy['Staff']:\n",
    "    for i in _:\n",
    "        staffList.append(i)\n",
    "        print(i, end=' ')"
   ]
  },
  {
   "cell_type": "code",
   "execution_count": 55,
   "metadata": {},
   "outputs": [],
   "source": [
    "# Cleaning the staff list. making all values unique with set()\n",
    "staffList[37] = 'Kerri'\n",
    "staffList[41] = 'Matt Roberto'\n",
    "staffSet = set(staffList)\n",
    "staffSet.remove('Staff')\n",
    "staffSet.remove('Matt Roberto')\n",
    "staffList = list(staffSet)\n",
    "staffList\n",
    "\n",
    "# some names have a space character at the end of them\n",
    "# This removes the space character\n",
    "for i in range(len(staffList)):\n",
    "    staffList[i] = staffList[i].replace(' ',  '')\n",
    "\n",
    "# Remove repeat staff names\n",
    "staffSet = set(staffList)\n",
    "staffList = list(staffSet)\n"
   ]
  },
  {
   "cell_type": "code",
   "execution_count": 56,
   "metadata": {},
   "outputs": [
    {
     "name": "stdout",
     "output_type": "stream",
     "text": [
      "Sebastian:    \t$ 19.67\n",
      "Deb:    \t$ 132.25\n",
      "Liz:    \t$ 176.33\n",
      "Justice:    \t$ 0.0\n",
      "Kerri:    \t$ 28.0\n",
      "Bryan:    \t$ 48.33\n",
      "Ava:    \t$ 0.0\n",
      "Amani:    \t$ 0.0\n",
      "Sue:    \t$ 82.67\n",
      "Taylor:    \t$ 12.0\n",
      "Jake:    \t$ 0.0\n",
      "Chrissy:    \t$ 56.77\n",
      "Hannah:    \t$ 100.0\n",
      "Julia:    \t$ 0.0\n",
      "Melanie:    \t$ 0.0\n",
      "Cassidy:    \t$ 62.89\n",
      "Ryleigh:    \t$ 14.0\n",
      "Brian:    \t$ 75.6\n",
      "Laura:    \t$ 32.67\n",
      "Christian:    \t$ 140.0\n",
      "Michele:    \t$ 79.58\n",
      "Justin:    \t$ 37.0\n",
      "Michael:    \t$ 35.2\n",
      "Joey:    \t$ 66.67\n",
      "Jack:    \t$ 205.0\n",
      "Monique:    \t$ 89.0\n",
      "Steven:    \t$ 10.0\n",
      "Beth:    \t$ 76.58\n",
      "Janine:    \t$ 59.22\n",
      "Angel:    \t$ 0.0\n",
      "Diane:    \t$ 64.46\n",
      "Jess:    \t$ 185.0\n",
      "Jennie:    \t$ 43.45\n",
      "Josh:    \t$ 31.5\n",
      "Jeanine:    \t$ 0.0\n",
      "Gen:    \t$ 140.0\n"
     ]
    }
   ],
   "source": [
    "# Get the mean tip for each staff member\n",
    "# create a corresponding list with the mean tip\n",
    "staffListMeanTip = []\n",
    "for staff in staffList:\n",
    "    staffListMeanTip.append(meanTipWith(staff))"
   ]
  },
  {
   "cell_type": "markdown",
   "metadata": {},
   "source": [
    "## New DataFrame to display  information based on each waiter"
   ]
  },
  {
   "cell_type": "code",
   "execution_count": 57,
   "metadata": {},
   "outputs": [],
   "source": [
    "# rounding the average tip to 2 decimal places\n",
    "for i in range(len(staffListMeanTip)):\n",
    "    staffListMeanTip[i] = round(staffListMeanTip[i],2)"
   ]
  },
  {
   "cell_type": "code",
   "execution_count": 58,
   "metadata": {},
   "outputs": [],
   "source": [
    "data = {\n",
    "    'Waiter': staffList,\n",
    "    'MeanTip': staffListMeanTip\n",
    "}\n",
    "df2 = pd.DataFrame(data)"
   ]
  },
  {
   "cell_type": "code",
   "execution_count": 59,
   "metadata": {
    "scrolled": true
   },
   "outputs": [
    {
     "data": {
      "text/html": [
       "<div>\n",
       "<style scoped>\n",
       "    .dataframe tbody tr th:only-of-type {\n",
       "        vertical-align: middle;\n",
       "    }\n",
       "\n",
       "    .dataframe tbody tr th {\n",
       "        vertical-align: top;\n",
       "    }\n",
       "\n",
       "    .dataframe thead th {\n",
       "        text-align: right;\n",
       "    }\n",
       "</style>\n",
       "<table border=\"1\" class=\"dataframe\">\n",
       "  <thead>\n",
       "    <tr style=\"text-align: right;\">\n",
       "      <th></th>\n",
       "      <th>Waiter</th>\n",
       "      <th>MeanTip</th>\n",
       "    </tr>\n",
       "  </thead>\n",
       "  <tbody>\n",
       "    <tr>\n",
       "      <th>7</th>\n",
       "      <td>Amani</td>\n",
       "      <td>0.00</td>\n",
       "    </tr>\n",
       "    <tr>\n",
       "      <th>29</th>\n",
       "      <td>Angel</td>\n",
       "      <td>0.00</td>\n",
       "    </tr>\n",
       "    <tr>\n",
       "      <th>6</th>\n",
       "      <td>Ava</td>\n",
       "      <td>0.00</td>\n",
       "    </tr>\n",
       "    <tr>\n",
       "      <th>27</th>\n",
       "      <td>Beth</td>\n",
       "      <td>76.58</td>\n",
       "    </tr>\n",
       "    <tr>\n",
       "      <th>17</th>\n",
       "      <td>Brian</td>\n",
       "      <td>75.60</td>\n",
       "    </tr>\n",
       "    <tr>\n",
       "      <th>5</th>\n",
       "      <td>Bryan</td>\n",
       "      <td>48.33</td>\n",
       "    </tr>\n",
       "    <tr>\n",
       "      <th>15</th>\n",
       "      <td>Cassidy</td>\n",
       "      <td>62.89</td>\n",
       "    </tr>\n",
       "    <tr>\n",
       "      <th>11</th>\n",
       "      <td>Chrissy</td>\n",
       "      <td>56.77</td>\n",
       "    </tr>\n",
       "    <tr>\n",
       "      <th>19</th>\n",
       "      <td>Christian</td>\n",
       "      <td>140.00</td>\n",
       "    </tr>\n",
       "    <tr>\n",
       "      <th>1</th>\n",
       "      <td>Deb</td>\n",
       "      <td>132.25</td>\n",
       "    </tr>\n",
       "    <tr>\n",
       "      <th>30</th>\n",
       "      <td>Diane</td>\n",
       "      <td>64.46</td>\n",
       "    </tr>\n",
       "    <tr>\n",
       "      <th>35</th>\n",
       "      <td>Gen</td>\n",
       "      <td>140.00</td>\n",
       "    </tr>\n",
       "    <tr>\n",
       "      <th>12</th>\n",
       "      <td>Hannah</td>\n",
       "      <td>100.00</td>\n",
       "    </tr>\n",
       "    <tr>\n",
       "      <th>24</th>\n",
       "      <td>Jack</td>\n",
       "      <td>205.00</td>\n",
       "    </tr>\n",
       "    <tr>\n",
       "      <th>10</th>\n",
       "      <td>Jake</td>\n",
       "      <td>0.00</td>\n",
       "    </tr>\n",
       "    <tr>\n",
       "      <th>28</th>\n",
       "      <td>Janine</td>\n",
       "      <td>59.22</td>\n",
       "    </tr>\n",
       "    <tr>\n",
       "      <th>34</th>\n",
       "      <td>Jeanine</td>\n",
       "      <td>0.00</td>\n",
       "    </tr>\n",
       "    <tr>\n",
       "      <th>32</th>\n",
       "      <td>Jennie</td>\n",
       "      <td>43.45</td>\n",
       "    </tr>\n",
       "    <tr>\n",
       "      <th>31</th>\n",
       "      <td>Jess</td>\n",
       "      <td>185.00</td>\n",
       "    </tr>\n",
       "    <tr>\n",
       "      <th>23</th>\n",
       "      <td>Joey</td>\n",
       "      <td>66.67</td>\n",
       "    </tr>\n",
       "    <tr>\n",
       "      <th>33</th>\n",
       "      <td>Josh</td>\n",
       "      <td>31.50</td>\n",
       "    </tr>\n",
       "    <tr>\n",
       "      <th>13</th>\n",
       "      <td>Julia</td>\n",
       "      <td>0.00</td>\n",
       "    </tr>\n",
       "    <tr>\n",
       "      <th>3</th>\n",
       "      <td>Justice</td>\n",
       "      <td>0.00</td>\n",
       "    </tr>\n",
       "    <tr>\n",
       "      <th>21</th>\n",
       "      <td>Justin</td>\n",
       "      <td>37.00</td>\n",
       "    </tr>\n",
       "    <tr>\n",
       "      <th>4</th>\n",
       "      <td>Kerri</td>\n",
       "      <td>28.00</td>\n",
       "    </tr>\n",
       "    <tr>\n",
       "      <th>18</th>\n",
       "      <td>Laura</td>\n",
       "      <td>32.67</td>\n",
       "    </tr>\n",
       "    <tr>\n",
       "      <th>2</th>\n",
       "      <td>Liz</td>\n",
       "      <td>176.33</td>\n",
       "    </tr>\n",
       "    <tr>\n",
       "      <th>14</th>\n",
       "      <td>Melanie</td>\n",
       "      <td>0.00</td>\n",
       "    </tr>\n",
       "    <tr>\n",
       "      <th>22</th>\n",
       "      <td>Michael</td>\n",
       "      <td>35.20</td>\n",
       "    </tr>\n",
       "    <tr>\n",
       "      <th>20</th>\n",
       "      <td>Michele</td>\n",
       "      <td>79.58</td>\n",
       "    </tr>\n",
       "    <tr>\n",
       "      <th>25</th>\n",
       "      <td>Monique</td>\n",
       "      <td>89.00</td>\n",
       "    </tr>\n",
       "    <tr>\n",
       "      <th>16</th>\n",
       "      <td>Ryleigh</td>\n",
       "      <td>14.00</td>\n",
       "    </tr>\n",
       "    <tr>\n",
       "      <th>0</th>\n",
       "      <td>Sebastian</td>\n",
       "      <td>19.67</td>\n",
       "    </tr>\n",
       "    <tr>\n",
       "      <th>26</th>\n",
       "      <td>Steven</td>\n",
       "      <td>10.00</td>\n",
       "    </tr>\n",
       "    <tr>\n",
       "      <th>8</th>\n",
       "      <td>Sue</td>\n",
       "      <td>82.67</td>\n",
       "    </tr>\n",
       "    <tr>\n",
       "      <th>9</th>\n",
       "      <td>Taylor</td>\n",
       "      <td>12.00</td>\n",
       "    </tr>\n",
       "  </tbody>\n",
       "</table>\n",
       "</div>"
      ],
      "text/plain": [
       "       Waiter  MeanTip\n",
       "7       Amani     0.00\n",
       "29      Angel     0.00\n",
       "6         Ava     0.00\n",
       "27       Beth    76.58\n",
       "17      Brian    75.60\n",
       "5       Bryan    48.33\n",
       "15    Cassidy    62.89\n",
       "11    Chrissy    56.77\n",
       "19  Christian   140.00\n",
       "1         Deb   132.25\n",
       "30      Diane    64.46\n",
       "35        Gen   140.00\n",
       "12     Hannah   100.00\n",
       "24       Jack   205.00\n",
       "10       Jake     0.00\n",
       "28     Janine    59.22\n",
       "34    Jeanine     0.00\n",
       "32     Jennie    43.45\n",
       "31       Jess   185.00\n",
       "23       Joey    66.67\n",
       "33       Josh    31.50\n",
       "13      Julia     0.00\n",
       "3     Justice     0.00\n",
       "21     Justin    37.00\n",
       "4       Kerri    28.00\n",
       "18      Laura    32.67\n",
       "2         Liz   176.33\n",
       "14    Melanie     0.00\n",
       "22    Michael    35.20\n",
       "20    Michele    79.58\n",
       "25    Monique    89.00\n",
       "16    Ryleigh    14.00\n",
       "0   Sebastian    19.67\n",
       "26     Steven    10.00\n",
       "8         Sue    82.67\n",
       "9      Taylor    12.00"
      ]
     },
     "execution_count": 59,
     "metadata": {},
     "output_type": "execute_result"
    }
   ],
   "source": [
    "df2.sort_values(by=['Waiter'])"
   ]
  },
  {
   "cell_type": "code",
   "execution_count": 60,
   "metadata": {},
   "outputs": [],
   "source": [
    "# Create EventsWorked column\n",
    "df2['EventsWorked'] = 1\n",
    "# iterate through the Waiter Series and set the EventsWorked column\n",
    "# this first line ignores the warning of writing to a \"slice\" of a dataframe\n",
    "pd.options.mode.chained_assignment = None\n",
    "for i in range(len(df2['Waiter'])):\n",
    "    df2['EventsWorked'][i] = numEventsWith(staffList[i])\n",
    "#reactivate the 'copying to a slice' warning\n",
    "pd.options.mode.chained_assignment = 'warn'"
   ]
  },
  {
   "cell_type": "code",
   "execution_count": 61,
   "metadata": {
    "scrolled": true
   },
   "outputs": [
    {
     "data": {
      "text/html": [
       "<div>\n",
       "<style scoped>\n",
       "    .dataframe tbody tr th:only-of-type {\n",
       "        vertical-align: middle;\n",
       "    }\n",
       "\n",
       "    .dataframe tbody tr th {\n",
       "        vertical-align: top;\n",
       "    }\n",
       "\n",
       "    .dataframe thead th {\n",
       "        text-align: right;\n",
       "    }\n",
       "</style>\n",
       "<table border=\"1\" class=\"dataframe\">\n",
       "  <thead>\n",
       "    <tr style=\"text-align: right;\">\n",
       "      <th></th>\n",
       "      <th>Waiter</th>\n",
       "      <th>MeanTip</th>\n",
       "      <th>EventsWorked</th>\n",
       "    </tr>\n",
       "  </thead>\n",
       "  <tbody>\n",
       "    <tr>\n",
       "      <th>17</th>\n",
       "      <td>Brian</td>\n",
       "      <td>75.60</td>\n",
       "      <td>71</td>\n",
       "    </tr>\n",
       "    <tr>\n",
       "      <th>11</th>\n",
       "      <td>Chrissy</td>\n",
       "      <td>56.77</td>\n",
       "      <td>20</td>\n",
       "    </tr>\n",
       "    <tr>\n",
       "      <th>27</th>\n",
       "      <td>Beth</td>\n",
       "      <td>76.58</td>\n",
       "      <td>19</td>\n",
       "    </tr>\n",
       "    <tr>\n",
       "      <th>28</th>\n",
       "      <td>Janine</td>\n",
       "      <td>59.22</td>\n",
       "      <td>18</td>\n",
       "    </tr>\n",
       "    <tr>\n",
       "      <th>8</th>\n",
       "      <td>Sue</td>\n",
       "      <td>82.67</td>\n",
       "      <td>18</td>\n",
       "    </tr>\n",
       "    <tr>\n",
       "      <th>30</th>\n",
       "      <td>Diane</td>\n",
       "      <td>64.46</td>\n",
       "      <td>12</td>\n",
       "    </tr>\n",
       "    <tr>\n",
       "      <th>20</th>\n",
       "      <td>Michele</td>\n",
       "      <td>79.58</td>\n",
       "      <td>12</td>\n",
       "    </tr>\n",
       "    <tr>\n",
       "      <th>32</th>\n",
       "      <td>Jennie</td>\n",
       "      <td>43.45</td>\n",
       "      <td>11</td>\n",
       "    </tr>\n",
       "    <tr>\n",
       "      <th>15</th>\n",
       "      <td>Cassidy</td>\n",
       "      <td>62.89</td>\n",
       "      <td>9</td>\n",
       "    </tr>\n",
       "    <tr>\n",
       "      <th>23</th>\n",
       "      <td>Joey</td>\n",
       "      <td>66.67</td>\n",
       "      <td>9</td>\n",
       "    </tr>\n",
       "    <tr>\n",
       "      <th>4</th>\n",
       "      <td>Kerri</td>\n",
       "      <td>28.00</td>\n",
       "      <td>7</td>\n",
       "    </tr>\n",
       "    <tr>\n",
       "      <th>21</th>\n",
       "      <td>Justin</td>\n",
       "      <td>37.00</td>\n",
       "      <td>7</td>\n",
       "    </tr>\n",
       "    <tr>\n",
       "      <th>0</th>\n",
       "      <td>Sebastian</td>\n",
       "      <td>19.67</td>\n",
       "      <td>6</td>\n",
       "    </tr>\n",
       "    <tr>\n",
       "      <th>5</th>\n",
       "      <td>Bryan</td>\n",
       "      <td>48.33</td>\n",
       "      <td>6</td>\n",
       "    </tr>\n",
       "    <tr>\n",
       "      <th>22</th>\n",
       "      <td>Michael</td>\n",
       "      <td>35.20</td>\n",
       "      <td>5</td>\n",
       "    </tr>\n",
       "    <tr>\n",
       "      <th>9</th>\n",
       "      <td>Taylor</td>\n",
       "      <td>12.00</td>\n",
       "      <td>4</td>\n",
       "    </tr>\n",
       "    <tr>\n",
       "      <th>13</th>\n",
       "      <td>Julia</td>\n",
       "      <td>0.00</td>\n",
       "      <td>4</td>\n",
       "    </tr>\n",
       "    <tr>\n",
       "      <th>33</th>\n",
       "      <td>Josh</td>\n",
       "      <td>31.50</td>\n",
       "      <td>4</td>\n",
       "    </tr>\n",
       "    <tr>\n",
       "      <th>1</th>\n",
       "      <td>Deb</td>\n",
       "      <td>132.25</td>\n",
       "      <td>4</td>\n",
       "    </tr>\n",
       "    <tr>\n",
       "      <th>18</th>\n",
       "      <td>Laura</td>\n",
       "      <td>32.67</td>\n",
       "      <td>3</td>\n",
       "    </tr>\n",
       "    <tr>\n",
       "      <th>2</th>\n",
       "      <td>Liz</td>\n",
       "      <td>176.33</td>\n",
       "      <td>3</td>\n",
       "    </tr>\n",
       "    <tr>\n",
       "      <th>16</th>\n",
       "      <td>Ryleigh</td>\n",
       "      <td>14.00</td>\n",
       "      <td>2</td>\n",
       "    </tr>\n",
       "    <tr>\n",
       "      <th>25</th>\n",
       "      <td>Monique</td>\n",
       "      <td>89.00</td>\n",
       "      <td>2</td>\n",
       "    </tr>\n",
       "    <tr>\n",
       "      <th>26</th>\n",
       "      <td>Steven</td>\n",
       "      <td>10.00</td>\n",
       "      <td>2</td>\n",
       "    </tr>\n",
       "    <tr>\n",
       "      <th>3</th>\n",
       "      <td>Justice</td>\n",
       "      <td>0.00</td>\n",
       "      <td>2</td>\n",
       "    </tr>\n",
       "    <tr>\n",
       "      <th>34</th>\n",
       "      <td>Jeanine</td>\n",
       "      <td>0.00</td>\n",
       "      <td>2</td>\n",
       "    </tr>\n",
       "    <tr>\n",
       "      <th>19</th>\n",
       "      <td>Christian</td>\n",
       "      <td>140.00</td>\n",
       "      <td>1</td>\n",
       "    </tr>\n",
       "    <tr>\n",
       "      <th>14</th>\n",
       "      <td>Melanie</td>\n",
       "      <td>0.00</td>\n",
       "      <td>1</td>\n",
       "    </tr>\n",
       "    <tr>\n",
       "      <th>12</th>\n",
       "      <td>Hannah</td>\n",
       "      <td>100.00</td>\n",
       "      <td>1</td>\n",
       "    </tr>\n",
       "    <tr>\n",
       "      <th>24</th>\n",
       "      <td>Jack</td>\n",
       "      <td>205.00</td>\n",
       "      <td>1</td>\n",
       "    </tr>\n",
       "    <tr>\n",
       "      <th>10</th>\n",
       "      <td>Jake</td>\n",
       "      <td>0.00</td>\n",
       "      <td>1</td>\n",
       "    </tr>\n",
       "    <tr>\n",
       "      <th>7</th>\n",
       "      <td>Amani</td>\n",
       "      <td>0.00</td>\n",
       "      <td>1</td>\n",
       "    </tr>\n",
       "    <tr>\n",
       "      <th>29</th>\n",
       "      <td>Angel</td>\n",
       "      <td>0.00</td>\n",
       "      <td>1</td>\n",
       "    </tr>\n",
       "    <tr>\n",
       "      <th>6</th>\n",
       "      <td>Ava</td>\n",
       "      <td>0.00</td>\n",
       "      <td>1</td>\n",
       "    </tr>\n",
       "    <tr>\n",
       "      <th>31</th>\n",
       "      <td>Jess</td>\n",
       "      <td>185.00</td>\n",
       "      <td>1</td>\n",
       "    </tr>\n",
       "    <tr>\n",
       "      <th>35</th>\n",
       "      <td>Gen</td>\n",
       "      <td>140.00</td>\n",
       "      <td>1</td>\n",
       "    </tr>\n",
       "  </tbody>\n",
       "</table>\n",
       "</div>"
      ],
      "text/plain": [
       "       Waiter  MeanTip  EventsWorked\n",
       "17      Brian    75.60            71\n",
       "11    Chrissy    56.77            20\n",
       "27       Beth    76.58            19\n",
       "28     Janine    59.22            18\n",
       "8         Sue    82.67            18\n",
       "30      Diane    64.46            12\n",
       "20    Michele    79.58            12\n",
       "32     Jennie    43.45            11\n",
       "15    Cassidy    62.89             9\n",
       "23       Joey    66.67             9\n",
       "4       Kerri    28.00             7\n",
       "21     Justin    37.00             7\n",
       "0   Sebastian    19.67             6\n",
       "5       Bryan    48.33             6\n",
       "22    Michael    35.20             5\n",
       "9      Taylor    12.00             4\n",
       "13      Julia     0.00             4\n",
       "33       Josh    31.50             4\n",
       "1         Deb   132.25             4\n",
       "18      Laura    32.67             3\n",
       "2         Liz   176.33             3\n",
       "16    Ryleigh    14.00             2\n",
       "25    Monique    89.00             2\n",
       "26     Steven    10.00             2\n",
       "3     Justice     0.00             2\n",
       "34    Jeanine     0.00             2\n",
       "19  Christian   140.00             1\n",
       "14    Melanie     0.00             1\n",
       "12     Hannah   100.00             1\n",
       "24       Jack   205.00             1\n",
       "10       Jake     0.00             1\n",
       "7       Amani     0.00             1\n",
       "29      Angel     0.00             1\n",
       "6         Ava     0.00             1\n",
       "31       Jess   185.00             1\n",
       "35        Gen   140.00             1"
      ]
     },
     "execution_count": 61,
     "metadata": {},
     "output_type": "execute_result"
    }
   ],
   "source": [
    "df2.sort_values(by='EventsWorked', ascending=False)"
   ]
  },
  {
   "cell_type": "markdown",
   "metadata": {},
   "source": [
    "### I average the highest tips when working with Sue, Michele, Beth, Joey, or Diane"
   ]
  },
  {
   "cell_type": "code",
   "execution_count": 62,
   "metadata": {},
   "outputs": [
    {
     "data": {
      "text/html": [
       "<div>\n",
       "<style scoped>\n",
       "    .dataframe tbody tr th:only-of-type {\n",
       "        vertical-align: middle;\n",
       "    }\n",
       "\n",
       "    .dataframe tbody tr th {\n",
       "        vertical-align: top;\n",
       "    }\n",
       "\n",
       "    .dataframe thead th {\n",
       "        text-align: right;\n",
       "    }\n",
       "</style>\n",
       "<table border=\"1\" class=\"dataframe\">\n",
       "  <thead>\n",
       "    <tr style=\"text-align: right;\">\n",
       "      <th></th>\n",
       "      <th>Waiter</th>\n",
       "      <th>MeanTip</th>\n",
       "      <th>EventsWorked</th>\n",
       "    </tr>\n",
       "  </thead>\n",
       "  <tbody>\n",
       "    <tr>\n",
       "      <th>8</th>\n",
       "      <td>Sue</td>\n",
       "      <td>82.67</td>\n",
       "      <td>18</td>\n",
       "    </tr>\n",
       "    <tr>\n",
       "      <th>20</th>\n",
       "      <td>Michele</td>\n",
       "      <td>79.58</td>\n",
       "      <td>12</td>\n",
       "    </tr>\n",
       "    <tr>\n",
       "      <th>27</th>\n",
       "      <td>Beth</td>\n",
       "      <td>76.58</td>\n",
       "      <td>19</td>\n",
       "    </tr>\n",
       "    <tr>\n",
       "      <th>17</th>\n",
       "      <td>Brian</td>\n",
       "      <td>75.60</td>\n",
       "      <td>71</td>\n",
       "    </tr>\n",
       "    <tr>\n",
       "      <th>23</th>\n",
       "      <td>Joey</td>\n",
       "      <td>66.67</td>\n",
       "      <td>9</td>\n",
       "    </tr>\n",
       "    <tr>\n",
       "      <th>30</th>\n",
       "      <td>Diane</td>\n",
       "      <td>64.46</td>\n",
       "      <td>12</td>\n",
       "    </tr>\n",
       "  </tbody>\n",
       "</table>\n",
       "</div>"
      ],
      "text/plain": [
       "     Waiter  MeanTip  EventsWorked\n",
       "8       Sue    82.67            18\n",
       "20  Michele    79.58            12\n",
       "27     Beth    76.58            19\n",
       "17    Brian    75.60            71\n",
       "23     Joey    66.67             9\n",
       "30    Diane    64.46            12"
      ]
     },
     "execution_count": 62,
     "metadata": {},
     "output_type": "execute_result"
    }
   ],
   "source": [
    "# Remove putliers, where the # of events worked is less than 5\n",
    "# Sort by highest Mean Tip\n",
    "df2.loc[(df2['EventsWorked'] >= 5)].sort_values(by='MeanTip', ascending = False).head(6)"
   ]
  },
  {
   "cell_type": "markdown",
   "metadata": {},
   "source": [
    "### There seems to be a positive correlation between the number of events worked and the mean tip"
   ]
  },
  {
   "cell_type": "code",
   "execution_count": 63,
   "metadata": {},
   "outputs": [
    {
     "data": {
      "image/png": "[encoded data removed]",
      "text/plain": [
       "<Figure size 432x288 with 1 Axes>"
      ]
     },
     "metadata": {
      "needs_background": "light"
     },
     "output_type": "display_data"
    }
   ],
   "source": [
    "plt.scatter(x=df2['EventsWorked'], y=df2['MeanTip'])\n",
    "plt.title('EventsWorked vs. MeanTip')\n",
    "plt.xlabel('EventsWorked')\n",
    "plt.ylabel('MeanTip')\n",
    "plt.show()"
   ]
  },
  {
   "cell_type": "code",
   "execution_count": 64,
   "metadata": {},
   "outputs": [
    {
     "data": {
      "text/plain": [
       "Text(0.5, 1.0, 'Correlation Matrix')"
      ]
     },
     "execution_count": 64,
     "metadata": {},
     "output_type": "execute_result"
    },
    {
     "data": {
      "image/png": "[encoded data removed]",
      "text/plain": [
       "<Figure size 432x288 with 2 Axes>"
      ]
     },
     "metadata": {
      "needs_background": "light"
     },
     "output_type": "display_data"
    }
   ],
   "source": [
    "correlation_matrix = df2.corr()\n",
    "sns.heatmap(correlation_matrix, annot=True)\n",
    "plt.title('Correlation Matrix')"
   ]
  },
  {
   "cell_type": "code",
   "execution_count": 65,
   "metadata": {},
   "outputs": [
    {
     "data": {
      "text/html": [
       "<div>\n",
       "<style scoped>\n",
       "    .dataframe tbody tr th:only-of-type {\n",
       "        vertical-align: middle;\n",
       "    }\n",
       "\n",
       "    .dataframe tbody tr th {\n",
       "        vertical-align: top;\n",
       "    }\n",
       "\n",
       "    .dataframe thead th {\n",
       "        text-align: right;\n",
       "    }\n",
       "</style>\n",
       "<table border=\"1\" class=\"dataframe\">\n",
       "  <thead>\n",
       "    <tr style=\"text-align: right;\">\n",
       "      <th></th>\n",
       "      <th>Waiter</th>\n",
       "      <th>MeanTip</th>\n",
       "      <th>EventsWorked</th>\n",
       "    </tr>\n",
       "  </thead>\n",
       "  <tbody>\n",
       "    <tr>\n",
       "      <th>0</th>\n",
       "      <td>Sebastian</td>\n",
       "      <td>19.67</td>\n",
       "      <td>6</td>\n",
       "    </tr>\n",
       "    <tr>\n",
       "      <th>4</th>\n",
       "      <td>Kerri</td>\n",
       "      <td>28.00</td>\n",
       "      <td>7</td>\n",
       "    </tr>\n",
       "    <tr>\n",
       "      <th>5</th>\n",
       "      <td>Bryan</td>\n",
       "      <td>48.33</td>\n",
       "      <td>6</td>\n",
       "    </tr>\n",
       "    <tr>\n",
       "      <th>8</th>\n",
       "      <td>Sue</td>\n",
       "      <td>82.67</td>\n",
       "      <td>18</td>\n",
       "    </tr>\n",
       "    <tr>\n",
       "      <th>11</th>\n",
       "      <td>Chrissy</td>\n",
       "      <td>56.77</td>\n",
       "      <td>20</td>\n",
       "    </tr>\n",
       "    <tr>\n",
       "      <th>15</th>\n",
       "      <td>Cassidy</td>\n",
       "      <td>62.89</td>\n",
       "      <td>9</td>\n",
       "    </tr>\n",
       "    <tr>\n",
       "      <th>20</th>\n",
       "      <td>Michele</td>\n",
       "      <td>79.58</td>\n",
       "      <td>12</td>\n",
       "    </tr>\n",
       "    <tr>\n",
       "      <th>21</th>\n",
       "      <td>Justin</td>\n",
       "      <td>37.00</td>\n",
       "      <td>7</td>\n",
       "    </tr>\n",
       "    <tr>\n",
       "      <th>22</th>\n",
       "      <td>Michael</td>\n",
       "      <td>35.20</td>\n",
       "      <td>5</td>\n",
       "    </tr>\n",
       "    <tr>\n",
       "      <th>23</th>\n",
       "      <td>Joey</td>\n",
       "      <td>66.67</td>\n",
       "      <td>9</td>\n",
       "    </tr>\n",
       "    <tr>\n",
       "      <th>27</th>\n",
       "      <td>Beth</td>\n",
       "      <td>76.58</td>\n",
       "      <td>19</td>\n",
       "    </tr>\n",
       "    <tr>\n",
       "      <th>28</th>\n",
       "      <td>Janine</td>\n",
       "      <td>59.22</td>\n",
       "      <td>18</td>\n",
       "    </tr>\n",
       "    <tr>\n",
       "      <th>30</th>\n",
       "      <td>Diane</td>\n",
       "      <td>64.46</td>\n",
       "      <td>12</td>\n",
       "    </tr>\n",
       "    <tr>\n",
       "      <th>32</th>\n",
       "      <td>Jennie</td>\n",
       "      <td>43.45</td>\n",
       "      <td>11</td>\n",
       "    </tr>\n",
       "  </tbody>\n",
       "</table>\n",
       "</div>"
      ],
      "text/plain": [
       "       Waiter  MeanTip  EventsWorked\n",
       "0   Sebastian    19.67             6\n",
       "4       Kerri    28.00             7\n",
       "5       Bryan    48.33             6\n",
       "8         Sue    82.67            18\n",
       "11    Chrissy    56.77            20\n",
       "15    Cassidy    62.89             9\n",
       "20    Michele    79.58            12\n",
       "21     Justin    37.00             7\n",
       "22    Michael    35.20             5\n",
       "23       Joey    66.67             9\n",
       "27       Beth    76.58            19\n",
       "28     Janine    59.22            18\n",
       "30      Diane    64.46            12\n",
       "32     Jennie    43.45            11"
      ]
     },
     "execution_count": 65,
     "metadata": {},
     "output_type": "execute_result"
    }
   ],
   "source": [
    "df2RemoveOutliers = df2.loc[(df2['EventsWorked'] >= 5) & (df2['EventsWorked'] < 25)]\n",
    "df2RemoveOutliers"
   ]
  },
  {
   "cell_type": "code",
   "execution_count": 66,
   "metadata": {},
   "outputs": [
    {
     "data": {
      "image/png": "[encoded data removed]",
      "text/plain": [
       "<Figure size 432x288 with 1 Axes>"
      ]
     },
     "metadata": {
      "needs_background": "light"
     },
     "output_type": "display_data"
    }
   ],
   "source": [
    "x=df2RemoveOutliers['EventsWorked']\n",
    "y=df2RemoveOutliers['MeanTip']\n",
    "plt.scatter(x,y)\n",
    "plt.title('EventsWorked vs. MeanTip')\n",
    "plt.xlabel('EventsWorked')\n",
    "plt.ylabel('MeanTip')\n",
    "# Add trendline\n",
    "z = np.polyfit(x, y, 1)\n",
    "p = np.poly1d(z)\n",
    "plt.plot(x, p(x))\n",
    "plt.show()"
   ]
  },
  {
   "cell_type": "markdown",
   "metadata": {},
   "source": [
    "### After removing the outliers(where EventsWorked is less than 5 and more than 25), there is a stronger positive correlation between the Mean Tip and Events Worked compared to the correlation before removing outliers"
   ]
  },
  {
   "cell_type": "code",
   "execution_count": 67,
   "metadata": {},
   "outputs": [
    {
     "data": {
      "text/plain": [
       "Text(0.5, 1.0, 'Correlation Matrix')"
      ]
     },
     "execution_count": 67,
     "metadata": {},
     "output_type": "execute_result"
    },
    {
     "data": {
      "image/png": "[encoded data removed]",
      "text/plain": [
       "<Figure size 432x288 with 2 Axes>"
      ]
     },
     "metadata": {
      "needs_background": "light"
     },
     "output_type": "display_data"
    }
   ],
   "source": [
    "correlation_matrix2 = df2RemoveOutliers.corr()\n",
    "sns.heatmap(correlation_matrix2, annot=True)\n",
    "plt.title('Correlation Matrix')"
   ]
  },
  {
   "cell_type": "code",
   "execution_count": 68,
   "metadata": {},
   "outputs": [],
   "source": [
    "def totalTipWith(staff: str):\n",
    "    total = df[df['Staff'].str.contains(staff) | \n",
    "           df['Host'].str.contains(staff) | \n",
    "           df['Lead'].str.contains(staff)]['Tip'].sum()\n",
    "    print(f\"{staff}:    \\t$\", total)\n",
    "    return(total)"
   ]
  },
  {
   "cell_type": "code",
   "execution_count": 69,
   "metadata": {
    "scrolled": true
   },
   "outputs": [
    {
     "name": "stdout",
     "output_type": "stream",
     "text": [
      "Sebastian:    \t$ 118.0\n",
      "Deb:    \t$ 529.0\n",
      "Liz:    \t$ 529.0\n",
      "Justice:    \t$ 0.0\n",
      "Kerri:    \t$ 196.0\n",
      "Bryan:    \t$ 290.0\n",
      "Ava:    \t$ 0.0\n",
      "Amani:    \t$ 0.0\n",
      "Sue:    \t$ 1488.0\n",
      "Taylor:    \t$ 48.0\n",
      "Jake:    \t$ 0.0\n",
      "Chrissy:    \t$ 1135.5\n",
      "Hannah:    \t$ 100.0\n",
      "Julia:    \t$ 0.0\n",
      "Melanie:    \t$ 0.0\n",
      "Cassidy:    \t$ 566.0\n",
      "Ryleigh:    \t$ 28.0\n",
      "Brian:    \t$ 5443.5\n",
      "Laura:    \t$ 98.0\n",
      "Christian:    \t$ 140.0\n",
      "Michele:    \t$ 955.0\n",
      "Justin:    \t$ 259.0\n",
      "Michael:    \t$ 176.0\n",
      "Joey:    \t$ 600.0\n",
      "Jack:    \t$ 205.0\n",
      "Monique:    \t$ 178.0\n",
      "Steven:    \t$ 20.0\n",
      "Beth:    \t$ 1455.0\n",
      "Janine:    \t$ 1066.0\n",
      "Angel:    \t$ 0.0\n",
      "Diane:    \t$ 838.0\n",
      "Jess:    \t$ 185.0\n",
      "Jennie:    \t$ 478.0\n",
      "Josh:    \t$ 126.0\n",
      "Jeanine:    \t$ 0.0\n",
      "Gen:    \t$ 140.0\n"
     ]
    }
   ],
   "source": [
    "# Create TotalTips column\n",
    "df2['TotalTips'] = 1\n",
    "# this first line ignores the warning of writing to a \"slice\" of a dataframe\n",
    "pd.options.mode.chained_assignment = None\n",
    "for i in range(len(df2['Waiter'])):\n",
    "    df2['TotalTips'][i] = totalTipWith(df2['Waiter'][i])\n",
    "#reactivate the 'copying to a slice' warning\n",
    "pd.options.mode.chained_assignment = 'warn'"
   ]
  },
  {
   "cell_type": "code",
   "execution_count": 70,
   "metadata": {
    "scrolled": true
   },
   "outputs": [
    {
     "name": "stdout",
     "output_type": "stream",
     "text": [
      "Sebastian:    \t$ nan\n",
      "Deb:    \t$ nan\n",
      "Liz:    \t$ nan\n",
      "Justice:    \t$ nan\n",
      "Kerri:    \t$ 49.0\n",
      "Bryan:    \t$ nan\n",
      "Ava:    \t$ nan\n",
      "Amani:    \t$ nan\n",
      "Sue:    \t$ 105.0\n",
      "Taylor:    \t$ nan\n",
      "Jake:    \t$ nan\n",
      "Chrissy:    \t$ 77.67\n",
      "Hannah:    \t$ nan\n",
      "Julia:    \t$ nan\n",
      "Melanie:    \t$ nan\n",
      "Cassidy:    \t$ nan\n",
      "Ryleigh:    \t$ nan\n",
      "Brian:    \t$ 17.5\n",
      "Laura:    \t$ 0.0\n",
      "Christian:    \t$ nan\n",
      "Michele:    \t$ nan\n",
      "Justin:    \t$ nan\n",
      "Michael:    \t$ nan\n",
      "Joey:    \t$ nan\n",
      "Jack:    \t$ nan\n",
      "Monique:    \t$ 150.0\n",
      "Steven:    \t$ nan\n",
      "Beth:    \t$ 18.33\n",
      "Janine:    \t$ 50.0\n",
      "Angel:    \t$ nan\n",
      "Diane:    \t$ 54.67\n",
      "Jess:    \t$ nan\n",
      "Jennie:    \t$ 37.5\n",
      "Josh:    \t$ nan\n",
      "Jeanine:    \t$ nan\n",
      "Gen:    \t$ nan\n"
     ]
    }
   ],
   "source": [
    "# Create MeanTipWhenLead column\n",
    "df2['MeanTipWhenLead'] = 1\n",
    "# this first line ignores the warning of writing to a \"slice\" of a dataframe\n",
    "pd.options.mode.chained_assignment = None\n",
    "for i in range(len(df2['Waiter'])):\n",
    "    df2['MeanTipWhenLead'][i] = meanTipWhenLead(df2['Waiter'][i])\n",
    "#reactivate the 'copying to a slice' warning\n",
    "pd.options.mode.chained_assignment = 'warn'\n",
    "df2['MeanTipWhenLead'] = df2['MeanTipWhenLead'].fillna('-')"
   ]
  },
  {
   "cell_type": "code",
   "execution_count": 71,
   "metadata": {},
   "outputs": [],
   "source": [
    "# Create EventsAsLead column\n",
    "df2['EventsAsLead'] = 1\n",
    "# this first line ignores the warning of writing to a \"slice\" of a dataframe\n",
    "pd.options.mode.chained_assignment = None\n",
    "for i in range(len(df2['Waiter'])):\n",
    "    df2['EventsAsLead'][i] = numEventsAsLead(df2['Waiter'][i])\n",
    "#reactivate the 'copying to a slice' warning\n",
    "pd.options.mode.chained_assignment = 'warn'"
   ]
  },
  {
   "cell_type": "code",
   "execution_count": 72,
   "metadata": {},
   "outputs": [],
   "source": [
    "df2 = df2[['Waiter', 'EventsWorked', 'EventsAsLead', 'TotalTips', 'MeanTip', 'MeanTipWhenLead']]"
   ]
  },
  {
   "cell_type": "code",
   "execution_count": 73,
   "metadata": {
    "scrolled": false
   },
   "outputs": [
    {
     "data": {
      "text/html": [
       "<div>\n",
       "<style scoped>\n",
       "    .dataframe tbody tr th:only-of-type {\n",
       "        vertical-align: middle;\n",
       "    }\n",
       "\n",
       "    .dataframe tbody tr th {\n",
       "        vertical-align: top;\n",
       "    }\n",
       "\n",
       "    .dataframe thead th {\n",
       "        text-align: right;\n",
       "    }\n",
       "</style>\n",
       "<table border=\"1\" class=\"dataframe\">\n",
       "  <thead>\n",
       "    <tr style=\"text-align: right;\">\n",
       "      <th></th>\n",
       "      <th>Waiter</th>\n",
       "      <th>EventsWorked</th>\n",
       "      <th>EventsAsLead</th>\n",
       "      <th>TotalTips</th>\n",
       "      <th>MeanTip</th>\n",
       "      <th>MeanTipWhenLead</th>\n",
       "    </tr>\n",
       "  </thead>\n",
       "  <tbody>\n",
       "    <tr>\n",
       "      <th>8</th>\n",
       "      <td>Sue</td>\n",
       "      <td>18</td>\n",
       "      <td>7</td>\n",
       "      <td>1488</td>\n",
       "      <td>82.67</td>\n",
       "      <td>105.0</td>\n",
       "    </tr>\n",
       "    <tr>\n",
       "      <th>11</th>\n",
       "      <td>Chrissy</td>\n",
       "      <td>20</td>\n",
       "      <td>3</td>\n",
       "      <td>1135</td>\n",
       "      <td>56.77</td>\n",
       "      <td>77.67</td>\n",
       "    </tr>\n",
       "    <tr>\n",
       "      <th>30</th>\n",
       "      <td>Diane</td>\n",
       "      <td>12</td>\n",
       "      <td>6</td>\n",
       "      <td>838</td>\n",
       "      <td>64.46</td>\n",
       "      <td>54.67</td>\n",
       "    </tr>\n",
       "    <tr>\n",
       "      <th>28</th>\n",
       "      <td>Janine</td>\n",
       "      <td>18</td>\n",
       "      <td>3</td>\n",
       "      <td>1066</td>\n",
       "      <td>59.22</td>\n",
       "      <td>50.0</td>\n",
       "    </tr>\n",
       "    <tr>\n",
       "      <th>4</th>\n",
       "      <td>Kerri</td>\n",
       "      <td>7</td>\n",
       "      <td>2</td>\n",
       "      <td>196</td>\n",
       "      <td>28.00</td>\n",
       "      <td>49.0</td>\n",
       "    </tr>\n",
       "    <tr>\n",
       "      <th>32</th>\n",
       "      <td>Jennie</td>\n",
       "      <td>11</td>\n",
       "      <td>8</td>\n",
       "      <td>478</td>\n",
       "      <td>43.45</td>\n",
       "      <td>37.5</td>\n",
       "    </tr>\n",
       "    <tr>\n",
       "      <th>27</th>\n",
       "      <td>Beth</td>\n",
       "      <td>19</td>\n",
       "      <td>9</td>\n",
       "      <td>1455</td>\n",
       "      <td>76.58</td>\n",
       "      <td>18.33</td>\n",
       "    </tr>\n",
       "    <tr>\n",
       "      <th>17</th>\n",
       "      <td>Brian</td>\n",
       "      <td>71</td>\n",
       "      <td>4</td>\n",
       "      <td>5443</td>\n",
       "      <td>75.60</td>\n",
       "      <td>17.5</td>\n",
       "    </tr>\n",
       "  </tbody>\n",
       "</table>\n",
       "</div>"
      ],
      "text/plain": [
       "     Waiter  EventsWorked  EventsAsLead  TotalTips  MeanTip MeanTipWhenLead\n",
       "8       Sue            18             7       1488    82.67           105.0\n",
       "11  Chrissy            20             3       1135    56.77           77.67\n",
       "30    Diane            12             6        838    64.46           54.67\n",
       "28   Janine            18             3       1066    59.22            50.0\n",
       "4     Kerri             7             2        196    28.00            49.0\n",
       "32   Jennie            11             8        478    43.45            37.5\n",
       "27     Beth            19             9       1455    76.58           18.33\n",
       "17    Brian            71             4       5443    75.60            17.5"
      ]
     },
     "execution_count": 73,
     "metadata": {},
     "output_type": "execute_result"
    }
   ],
   "source": [
    "df2.loc[df2['EventsAsLead'] > 1].sort_values(by='MeanTipWhenLead', ascending = False)"
   ]
  },
  {
   "cell_type": "code",
   "execution_count": 74,
   "metadata": {
    "scrolled": true
   },
   "outputs": [
    {
     "data": {
      "text/html": [
       "<div>\n",
       "<style scoped>\n",
       "    .dataframe tbody tr th:only-of-type {\n",
       "        vertical-align: middle;\n",
       "    }\n",
       "\n",
       "    .dataframe tbody tr th {\n",
       "        vertical-align: top;\n",
       "    }\n",
       "\n",
       "    .dataframe thead th {\n",
       "        text-align: right;\n",
       "    }\n",
       "</style>\n",
       "<table border=\"1\" class=\"dataframe\">\n",
       "  <thead>\n",
       "    <tr style=\"text-align: right;\">\n",
       "      <th></th>\n",
       "      <th>Waiter</th>\n",
       "      <th>EventsWorked</th>\n",
       "      <th>EventsAsLead</th>\n",
       "      <th>TotalTips</th>\n",
       "      <th>MeanTip</th>\n",
       "      <th>MeanTipWhenLead</th>\n",
       "    </tr>\n",
       "  </thead>\n",
       "  <tbody>\n",
       "    <tr>\n",
       "      <th>27</th>\n",
       "      <td>Beth</td>\n",
       "      <td>19</td>\n",
       "      <td>9</td>\n",
       "      <td>1455</td>\n",
       "      <td>76.58</td>\n",
       "      <td>18.33</td>\n",
       "    </tr>\n",
       "    <tr>\n",
       "      <th>32</th>\n",
       "      <td>Jennie</td>\n",
       "      <td>11</td>\n",
       "      <td>8</td>\n",
       "      <td>478</td>\n",
       "      <td>43.45</td>\n",
       "      <td>37.5</td>\n",
       "    </tr>\n",
       "    <tr>\n",
       "      <th>8</th>\n",
       "      <td>Sue</td>\n",
       "      <td>18</td>\n",
       "      <td>7</td>\n",
       "      <td>1488</td>\n",
       "      <td>82.67</td>\n",
       "      <td>105.0</td>\n",
       "    </tr>\n",
       "    <tr>\n",
       "      <th>30</th>\n",
       "      <td>Diane</td>\n",
       "      <td>12</td>\n",
       "      <td>6</td>\n",
       "      <td>838</td>\n",
       "      <td>64.46</td>\n",
       "      <td>54.67</td>\n",
       "    </tr>\n",
       "    <tr>\n",
       "      <th>17</th>\n",
       "      <td>Brian</td>\n",
       "      <td>71</td>\n",
       "      <td>4</td>\n",
       "      <td>5443</td>\n",
       "      <td>75.60</td>\n",
       "      <td>17.5</td>\n",
       "    </tr>\n",
       "  </tbody>\n",
       "</table>\n",
       "</div>"
      ],
      "text/plain": [
       "    Waiter  EventsWorked  EventsAsLead  TotalTips  MeanTip MeanTipWhenLead\n",
       "27    Beth            19             9       1455    76.58           18.33\n",
       "32  Jennie            11             8        478    43.45            37.5\n",
       "8      Sue            18             7       1488    82.67           105.0\n",
       "30   Diane            12             6        838    64.46           54.67\n",
       "17   Brian            71             4       5443    75.60            17.5"
      ]
     },
     "execution_count": 74,
     "metadata": {},
     "output_type": "execute_result"
    }
   ],
   "source": [
    "df2.loc[df2['EventsAsLead'] > 3].sort_values(by='EventsAsLead', ascending = False)"
   ]
  },
  {
   "cell_type": "markdown",
   "metadata": {},
   "source": [
    "## The most experienced Waiters are Beth, Diane, and Sue\n",
    "## When Sue is the lead, I average a 105 dollar in tip\n",
    "## When Diane is the lead, I average a 55 dollar tip\n",
    "## When Beth is the lead, I average an 18 dollar tip"
   ]
  },
  {
   "cell_type": "code",
   "execution_count": null,
   "metadata": {},
   "outputs": [],
   "source": []
  }
 ],
 "metadata": {
  "kernelspec": {
   "display_name": "Python 3",
   "language": "python",
   "name": "python3"
  },
  "language_info": {
   "codemirror_mode": {
    "name": "ipython",
    "version": 3
   },
   "file_extension": ".py",
   "mimetype": "text/x-python",
   "name": "python",
   "nbconvert_exporter": "python",
   "pygments_lexer": "ipython3",
   "version": "3.8.8"
  }
 },
 "nbformat": 4,
 "nbformat_minor": 2
}
